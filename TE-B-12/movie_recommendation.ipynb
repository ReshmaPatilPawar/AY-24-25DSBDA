{
 "cells": [
  {
   "cell_type": "code",
   "execution_count": 249,
   "id": "2c5f0a9a-a0db-459f-9746-ba2b64725606",
   "metadata": {},
   "outputs": [],
   "source": [
    "import numpy as np\n",
    "import pandas as pd\n",
    "import ast"
   ]
  },
  {
   "cell_type": "code",
   "execution_count": 250,
   "id": "2a2a0ab4-e65f-49b5-87be-56957921e3a1",
   "metadata": {},
   "outputs": [],
   "source": [
    "movies = pd.read_csv('IMDB_Top_250_Movies.csv')\n",
    "credits = pd.read_csv('ratings.csv')"
   ]
  },
  {
   "cell_type": "code",
   "execution_count": 251,
   "id": "6fbddd6d-7e7a-48bb-b1d2-aac38046c335",
   "metadata": {},
   "outputs": [
    {
     "data": {
      "text/html": [
       "<div>\n",
       "<style scoped>\n",
       "    .dataframe tbody tr th:only-of-type {\n",
       "        vertical-align: middle;\n",
       "    }\n",
       "\n",
       "    .dataframe tbody tr th {\n",
       "        vertical-align: top;\n",
       "    }\n",
       "\n",
       "    .dataframe thead th {\n",
       "        text-align: right;\n",
       "    }\n",
       "</style>\n",
       "<table border=\"1\" class=\"dataframe\">\n",
       "  <thead>\n",
       "    <tr style=\"text-align: right;\">\n",
       "      <th></th>\n",
       "      <th>rank</th>\n",
       "      <th>name</th>\n",
       "      <th>year</th>\n",
       "      <th>rating</th>\n",
       "      <th>genre</th>\n",
       "      <th>certificate</th>\n",
       "      <th>run_time</th>\n",
       "      <th>tagline</th>\n",
       "      <th>budget</th>\n",
       "      <th>box_office</th>\n",
       "      <th>casts</th>\n",
       "      <th>directors</th>\n",
       "      <th>writers</th>\n",
       "    </tr>\n",
       "  </thead>\n",
       "  <tbody>\n",
       "    <tr>\n",
       "      <th>0</th>\n",
       "      <td>1</td>\n",
       "      <td>The Shawshank Redemption</td>\n",
       "      <td>1994</td>\n",
       "      <td>9.3</td>\n",
       "      <td>Drama</td>\n",
       "      <td>R</td>\n",
       "      <td>2h 22m</td>\n",
       "      <td>Fear can hold you prisoner. Hope can set you f...</td>\n",
       "      <td>25000000</td>\n",
       "      <td>28884504</td>\n",
       "      <td>Tim Robbins,Morgan Freeman,Bob Gunton,William ...</td>\n",
       "      <td>Frank Darabont</td>\n",
       "      <td>Stephen King,Frank Darabont</td>\n",
       "    </tr>\n",
       "  </tbody>\n",
       "</table>\n",
       "</div>"
      ],
      "text/plain": [
       "   rank                      name  year  rating  genre certificate run_time  \\\n",
       "0     1  The Shawshank Redemption  1994     9.3  Drama           R   2h 22m   \n",
       "\n",
       "                                             tagline    budget box_office  \\\n",
       "0  Fear can hold you prisoner. Hope can set you f...  25000000   28884504   \n",
       "\n",
       "                                               casts       directors  \\\n",
       "0  Tim Robbins,Morgan Freeman,Bob Gunton,William ...  Frank Darabont   \n",
       "\n",
       "                       writers  \n",
       "0  Stephen King,Frank Darabont  "
      ]
     },
     "execution_count": 251,
     "metadata": {},
     "output_type": "execute_result"
    }
   ],
   "source": [
    "movies.head(1)"
   ]
  },
  {
   "cell_type": "code",
   "execution_count": 252,
   "id": "f864793e-d496-491a-81a6-3889f74725fc",
   "metadata": {},
   "outputs": [
    {
     "data": {
      "text/html": [
       "<div>\n",
       "<style scoped>\n",
       "    .dataframe tbody tr th:only-of-type {\n",
       "        vertical-align: middle;\n",
       "    }\n",
       "\n",
       "    .dataframe tbody tr th {\n",
       "        vertical-align: top;\n",
       "    }\n",
       "\n",
       "    .dataframe thead th {\n",
       "        text-align: right;\n",
       "    }\n",
       "</style>\n",
       "<table border=\"1\" class=\"dataframe\">\n",
       "  <thead>\n",
       "    <tr style=\"text-align: right;\">\n",
       "      <th></th>\n",
       "      <th>userId</th>\n",
       "      <th>movieId</th>\n",
       "      <th>rating</th>\n",
       "      <th>timestamp</th>\n",
       "    </tr>\n",
       "  </thead>\n",
       "  <tbody>\n",
       "    <tr>\n",
       "      <th>0</th>\n",
       "      <td>1</td>\n",
       "      <td>296</td>\n",
       "      <td>5.0</td>\n",
       "      <td>1147880044</td>\n",
       "    </tr>\n",
       "  </tbody>\n",
       "</table>\n",
       "</div>"
      ],
      "text/plain": [
       "   userId  movieId  rating   timestamp\n",
       "0       1      296     5.0  1147880044"
      ]
     },
     "execution_count": 252,
     "metadata": {},
     "output_type": "execute_result"
    }
   ],
   "source": [
    "credits.head(1)"
   ]
  },
  {
   "cell_type": "code",
   "execution_count": 253,
   "id": "c0a170d0-3d0e-4c83-97ce-a2ce31604c36",
   "metadata": {},
   "outputs": [],
   "source": [
    "movies = movies.merge(credits,on='rating')"
   ]
  },
  {
   "cell_type": "code",
   "execution_count": 254,
   "id": "b9dd576b-01a3-4880-94b4-e7bb8d0222d5",
   "metadata": {},
   "outputs": [
    {
     "data": {
      "text/html": [
       "<div>\n",
       "<style scoped>\n",
       "    .dataframe tbody tr th:only-of-type {\n",
       "        vertical-align: middle;\n",
       "    }\n",
       "\n",
       "    .dataframe tbody tr th {\n",
       "        vertical-align: top;\n",
       "    }\n",
       "\n",
       "    .dataframe thead th {\n",
       "        text-align: right;\n",
       "    }\n",
       "</style>\n",
       "<table border=\"1\" class=\"dataframe\">\n",
       "  <thead>\n",
       "    <tr style=\"text-align: right;\">\n",
       "      <th></th>\n",
       "      <th>rank</th>\n",
       "      <th>name</th>\n",
       "      <th>year</th>\n",
       "      <th>rating</th>\n",
       "      <th>genre</th>\n",
       "      <th>certificate</th>\n",
       "      <th>run_time</th>\n",
       "      <th>tagline</th>\n",
       "      <th>budget</th>\n",
       "      <th>box_office</th>\n",
       "      <th>casts</th>\n",
       "      <th>directors</th>\n",
       "      <th>writers</th>\n",
       "      <th>userId</th>\n",
       "      <th>movieId</th>\n",
       "      <th>timestamp</th>\n",
       "    </tr>\n",
       "  </thead>\n",
       "  <tbody>\n",
       "  </tbody>\n",
       "</table>\n",
       "</div>"
      ],
      "text/plain": [
       "Empty DataFrame\n",
       "Columns: [rank, name, year, rating, genre, certificate, run_time, tagline, budget, box_office, casts, directors, writers, userId, movieId, timestamp]\n",
       "Index: []"
      ]
     },
     "execution_count": 254,
     "metadata": {},
     "output_type": "execute_result"
    }
   ],
   "source": [
    "movies.head(1)"
   ]
  },
  {
   "cell_type": "code",
   "execution_count": 255,
   "id": "f3c6cf66-de56-4cd9-898d-a3994ffdfdfb",
   "metadata": {},
   "outputs": [],
   "source": [
    "movies = movies[['rank', 'name', 'rating', 'genre', 'tagline', 'casts', 'directors', 'writers']]"
   ]
  },
  {
   "cell_type": "code",
   "execution_count": 256,
   "id": "391a95c5-033d-4903-aecc-9d32887d69e2",
   "metadata": {},
   "outputs": [
    {
     "data": {
      "text/html": [
       "<div>\n",
       "<style scoped>\n",
       "    .dataframe tbody tr th:only-of-type {\n",
       "        vertical-align: middle;\n",
       "    }\n",
       "\n",
       "    .dataframe tbody tr th {\n",
       "        vertical-align: top;\n",
       "    }\n",
       "\n",
       "    .dataframe thead th {\n",
       "        text-align: right;\n",
       "    }\n",
       "</style>\n",
       "<table border=\"1\" class=\"dataframe\">\n",
       "  <thead>\n",
       "    <tr style=\"text-align: right;\">\n",
       "      <th></th>\n",
       "      <th>rank</th>\n",
       "      <th>name</th>\n",
       "      <th>rating</th>\n",
       "      <th>genre</th>\n",
       "      <th>tagline</th>\n",
       "      <th>casts</th>\n",
       "      <th>directors</th>\n",
       "      <th>writers</th>\n",
       "    </tr>\n",
       "  </thead>\n",
       "  <tbody>\n",
       "  </tbody>\n",
       "</table>\n",
       "</div>"
      ],
      "text/plain": [
       "Empty DataFrame\n",
       "Columns: [rank, name, rating, genre, tagline, casts, directors, writers]\n",
       "Index: []"
      ]
     },
     "execution_count": 256,
     "metadata": {},
     "output_type": "execute_result"
    }
   ],
   "source": [
    "movies.head()"
   ]
  },
  {
   "cell_type": "code",
   "execution_count": 257,
   "id": "3a95961c-1fd1-40c7-b5e2-2f359a998f9a",
   "metadata": {},
   "outputs": [
    {
     "data": {
      "text/plain": [
       "rank         0\n",
       "name         0\n",
       "rating       0\n",
       "genre        0\n",
       "tagline      0\n",
       "casts        0\n",
       "directors    0\n",
       "writers      0\n",
       "dtype: int64"
      ]
     },
     "execution_count": 257,
     "metadata": {},
     "output_type": "execute_result"
    }
   ],
   "source": [
    "movies.isnull().sum()"
   ]
  },
  {
   "cell_type": "code",
   "execution_count": 258,
   "id": "af4f36c1-f9d8-48ea-a741-7b35d453cf49",
   "metadata": {},
   "outputs": [
    {
     "data": {
      "text/plain": [
       "0"
      ]
     },
     "execution_count": 258,
     "metadata": {},
     "output_type": "execute_result"
    }
   ],
   "source": [
    "movies.duplicated().sum()"
   ]
  },
  {
   "cell_type": "code",
   "execution_count": 259,
   "id": "e2d67fdc-dda6-4a8a-8347-b3eb652a0bcc",
   "metadata": {},
   "outputs": [
    {
     "name": "stdout",
     "output_type": "stream",
     "text": [
      "Drama\n"
     ]
    }
   ],
   "source": [
    "movies = pd.read_csv('IMDB_Top_250_Movies.csv')\n",
    "if movies.empty:\n",
    "    print(\"The DataFrame is still empty after loading.\")\n",
    "else:\n",
    "    print(movies.iloc[0].genre)"
   ]
  },
  {
   "cell_type": "code",
   "execution_count": 260,
   "id": "a847d7e4-6f27-4027-8b82-7209df638462",
   "metadata": {},
   "outputs": [
    {
     "name": "stdout",
     "output_type": "stream",
     "text": [
      "Index(['rank', 'name', 'year', 'rating', 'genre', 'certificate', 'run_time',\n",
      "       'tagline', 'budget', 'box_office', 'casts', 'directors', 'writers'],\n",
      "      dtype='object')\n"
     ]
    }
   ],
   "source": [
    "print(movies.columns)"
   ]
  },
  {
   "cell_type": "code",
   "execution_count": 261,
   "id": "a6c0881e-b435-4806-9e4f-b55eecc7248b",
   "metadata": {},
   "outputs": [
    {
     "data": {
      "text/plain": [
       "'Drama'"
      ]
     },
     "execution_count": 261,
     "metadata": {},
     "output_type": "execute_result"
    }
   ],
   "source": [
    "movies.iloc[0].genre"
   ]
  },
  {
   "cell_type": "code",
   "execution_count": 262,
   "id": "695e658e-be0a-4d33-b449-9649d5f486fa",
   "metadata": {},
   "outputs": [
    {
     "name": "stdout",
     "output_type": "stream",
     "text": [
      "0                 Drama\n",
      "1           Crime,Drama\n",
      "2    Action,Crime,Drama\n",
      "3           Crime,Drama\n",
      "4           Crime,Drama\n",
      "Name: genre, dtype: object\n"
     ]
    }
   ],
   "source": [
    "# Check the contents of the 'genre' column\n",
    "print(movies['genre'].head())"
   ]
  },
  {
   "cell_type": "code",
   "execution_count": 263,
   "id": "a1ca7bb6-e8f8-469c-aca8-16a13004de38",
   "metadata": {},
   "outputs": [],
   "source": [
    "def convert(obj):\n",
    "    # Split the string by commas and strip any whitespace\n",
    "    return [genre.strip() for genre in obj.split(',')]"
   ]
  },
  {
   "cell_type": "code",
   "execution_count": 264,
   "id": "9b6fe0e3-f0d5-425a-a1ad-ec7bf498b6b9",
   "metadata": {},
   "outputs": [],
   "source": [
    "movies['genre'] = movies['genre'].apply(convert)"
   ]
  },
  {
   "cell_type": "code",
   "execution_count": 265,
   "id": "f5d51d4a-88e0-4826-97fd-4fdbb6718458",
   "metadata": {},
   "outputs": [
    {
     "data": {
      "text/html": [
       "<div>\n",
       "<style scoped>\n",
       "    .dataframe tbody tr th:only-of-type {\n",
       "        vertical-align: middle;\n",
       "    }\n",
       "\n",
       "    .dataframe tbody tr th {\n",
       "        vertical-align: top;\n",
       "    }\n",
       "\n",
       "    .dataframe thead th {\n",
       "        text-align: right;\n",
       "    }\n",
       "</style>\n",
       "<table border=\"1\" class=\"dataframe\">\n",
       "  <thead>\n",
       "    <tr style=\"text-align: right;\">\n",
       "      <th></th>\n",
       "      <th>rank</th>\n",
       "      <th>name</th>\n",
       "      <th>year</th>\n",
       "      <th>rating</th>\n",
       "      <th>genre</th>\n",
       "      <th>certificate</th>\n",
       "      <th>run_time</th>\n",
       "      <th>tagline</th>\n",
       "      <th>budget</th>\n",
       "      <th>box_office</th>\n",
       "      <th>casts</th>\n",
       "      <th>directors</th>\n",
       "      <th>writers</th>\n",
       "    </tr>\n",
       "  </thead>\n",
       "  <tbody>\n",
       "    <tr>\n",
       "      <th>0</th>\n",
       "      <td>1</td>\n",
       "      <td>The Shawshank Redemption</td>\n",
       "      <td>1994</td>\n",
       "      <td>9.3</td>\n",
       "      <td>[Drama]</td>\n",
       "      <td>R</td>\n",
       "      <td>2h 22m</td>\n",
       "      <td>Fear can hold you prisoner. Hope can set you f...</td>\n",
       "      <td>25000000</td>\n",
       "      <td>28884504</td>\n",
       "      <td>Tim Robbins,Morgan Freeman,Bob Gunton,William ...</td>\n",
       "      <td>Frank Darabont</td>\n",
       "      <td>Stephen King,Frank Darabont</td>\n",
       "    </tr>\n",
       "    <tr>\n",
       "      <th>1</th>\n",
       "      <td>2</td>\n",
       "      <td>The Godfather</td>\n",
       "      <td>1972</td>\n",
       "      <td>9.2</td>\n",
       "      <td>[Crime, Drama]</td>\n",
       "      <td>R</td>\n",
       "      <td>2h 55m</td>\n",
       "      <td>An offer you can't refuse.</td>\n",
       "      <td>6000000</td>\n",
       "      <td>250341816</td>\n",
       "      <td>Marlon Brando,Al Pacino,James Caan,Diane Keato...</td>\n",
       "      <td>Francis Ford Coppola</td>\n",
       "      <td>Mario Puzo,Francis Ford Coppola</td>\n",
       "    </tr>\n",
       "    <tr>\n",
       "      <th>2</th>\n",
       "      <td>3</td>\n",
       "      <td>The Dark Knight</td>\n",
       "      <td>2008</td>\n",
       "      <td>9.0</td>\n",
       "      <td>[Action, Crime, Drama]</td>\n",
       "      <td>PG-13</td>\n",
       "      <td>2h 32m</td>\n",
       "      <td>Why So Serious?</td>\n",
       "      <td>185000000</td>\n",
       "      <td>1006234167</td>\n",
       "      <td>Christian Bale,Heath Ledger,Aaron Eckhart,Mich...</td>\n",
       "      <td>Christopher Nolan</td>\n",
       "      <td>Jonathan Nolan,Christopher Nolan,David S. Goyer</td>\n",
       "    </tr>\n",
       "    <tr>\n",
       "      <th>3</th>\n",
       "      <td>4</td>\n",
       "      <td>The Godfather Part II</td>\n",
       "      <td>1974</td>\n",
       "      <td>9.0</td>\n",
       "      <td>[Crime, Drama]</td>\n",
       "      <td>R</td>\n",
       "      <td>3h 22m</td>\n",
       "      <td>All the power on earth can't change destiny.</td>\n",
       "      <td>13000000</td>\n",
       "      <td>47961919</td>\n",
       "      <td>Al Pacino,Robert De Niro,Robert Duvall,Diane K...</td>\n",
       "      <td>Francis Ford Coppola</td>\n",
       "      <td>Francis Ford Coppola,Mario Puzo</td>\n",
       "    </tr>\n",
       "    <tr>\n",
       "      <th>4</th>\n",
       "      <td>5</td>\n",
       "      <td>12 Angry Men</td>\n",
       "      <td>1957</td>\n",
       "      <td>9.0</td>\n",
       "      <td>[Crime, Drama]</td>\n",
       "      <td>Approved</td>\n",
       "      <td>1h 36m</td>\n",
       "      <td>Life Is In Their Hands -- Death Is On Their Mi...</td>\n",
       "      <td>350000</td>\n",
       "      <td>955</td>\n",
       "      <td>Henry Fonda,Lee J. Cobb,Martin Balsam,John Fie...</td>\n",
       "      <td>Sidney Lumet</td>\n",
       "      <td>Reginald Rose</td>\n",
       "    </tr>\n",
       "  </tbody>\n",
       "</table>\n",
       "</div>"
      ],
      "text/plain": [
       "   rank                      name  year  rating                   genre  \\\n",
       "0     1  The Shawshank Redemption  1994     9.3                 [Drama]   \n",
       "1     2             The Godfather  1972     9.2          [Crime, Drama]   \n",
       "2     3           The Dark Knight  2008     9.0  [Action, Crime, Drama]   \n",
       "3     4     The Godfather Part II  1974     9.0          [Crime, Drama]   \n",
       "4     5              12 Angry Men  1957     9.0          [Crime, Drama]   \n",
       "\n",
       "  certificate run_time                                            tagline  \\\n",
       "0           R   2h 22m  Fear can hold you prisoner. Hope can set you f...   \n",
       "1           R   2h 55m                         An offer you can't refuse.   \n",
       "2       PG-13   2h 32m                                    Why So Serious?   \n",
       "3           R   3h 22m       All the power on earth can't change destiny.   \n",
       "4    Approved   1h 36m  Life Is In Their Hands -- Death Is On Their Mi...   \n",
       "\n",
       "      budget  box_office                                              casts  \\\n",
       "0   25000000    28884504  Tim Robbins,Morgan Freeman,Bob Gunton,William ...   \n",
       "1    6000000   250341816  Marlon Brando,Al Pacino,James Caan,Diane Keato...   \n",
       "2  185000000  1006234167  Christian Bale,Heath Ledger,Aaron Eckhart,Mich...   \n",
       "3   13000000    47961919  Al Pacino,Robert De Niro,Robert Duvall,Diane K...   \n",
       "4     350000         955  Henry Fonda,Lee J. Cobb,Martin Balsam,John Fie...   \n",
       "\n",
       "              directors                                          writers  \n",
       "0        Frank Darabont                      Stephen King,Frank Darabont  \n",
       "1  Francis Ford Coppola                  Mario Puzo,Francis Ford Coppola  \n",
       "2     Christopher Nolan  Jonathan Nolan,Christopher Nolan,David S. Goyer  \n",
       "3  Francis Ford Coppola                  Francis Ford Coppola,Mario Puzo  \n",
       "4          Sidney Lumet                                    Reginald Rose  "
      ]
     },
     "execution_count": 265,
     "metadata": {},
     "output_type": "execute_result"
    }
   ],
   "source": [
    "movies.head()"
   ]
  },
  {
   "cell_type": "code",
   "execution_count": 266,
   "id": "fcb9d7ed-d142-4dc0-8529-b9f0f682d7b9",
   "metadata": {},
   "outputs": [],
   "source": [
    "movies['tagline'] = movies['tagline'].apply(convert)"
   ]
  },
  {
   "cell_type": "code",
   "execution_count": 267,
   "id": "4350dbfc-a036-4d64-b1b4-376324660489",
   "metadata": {},
   "outputs": [
    {
     "data": {
      "text/html": [
       "<div>\n",
       "<style scoped>\n",
       "    .dataframe tbody tr th:only-of-type {\n",
       "        vertical-align: middle;\n",
       "    }\n",
       "\n",
       "    .dataframe tbody tr th {\n",
       "        vertical-align: top;\n",
       "    }\n",
       "\n",
       "    .dataframe thead th {\n",
       "        text-align: right;\n",
       "    }\n",
       "</style>\n",
       "<table border=\"1\" class=\"dataframe\">\n",
       "  <thead>\n",
       "    <tr style=\"text-align: right;\">\n",
       "      <th></th>\n",
       "      <th>rank</th>\n",
       "      <th>name</th>\n",
       "      <th>year</th>\n",
       "      <th>rating</th>\n",
       "      <th>genre</th>\n",
       "      <th>certificate</th>\n",
       "      <th>run_time</th>\n",
       "      <th>tagline</th>\n",
       "      <th>budget</th>\n",
       "      <th>box_office</th>\n",
       "      <th>casts</th>\n",
       "      <th>directors</th>\n",
       "      <th>writers</th>\n",
       "    </tr>\n",
       "  </thead>\n",
       "  <tbody>\n",
       "    <tr>\n",
       "      <th>0</th>\n",
       "      <td>1</td>\n",
       "      <td>The Shawshank Redemption</td>\n",
       "      <td>1994</td>\n",
       "      <td>9.3</td>\n",
       "      <td>[Drama]</td>\n",
       "      <td>R</td>\n",
       "      <td>2h 22m</td>\n",
       "      <td>[Fear can hold you prisoner. Hope can set you ...</td>\n",
       "      <td>25000000</td>\n",
       "      <td>28884504</td>\n",
       "      <td>Tim Robbins,Morgan Freeman,Bob Gunton,William ...</td>\n",
       "      <td>Frank Darabont</td>\n",
       "      <td>Stephen King,Frank Darabont</td>\n",
       "    </tr>\n",
       "    <tr>\n",
       "      <th>1</th>\n",
       "      <td>2</td>\n",
       "      <td>The Godfather</td>\n",
       "      <td>1972</td>\n",
       "      <td>9.2</td>\n",
       "      <td>[Crime, Drama]</td>\n",
       "      <td>R</td>\n",
       "      <td>2h 55m</td>\n",
       "      <td>[An offer you can't refuse.]</td>\n",
       "      <td>6000000</td>\n",
       "      <td>250341816</td>\n",
       "      <td>Marlon Brando,Al Pacino,James Caan,Diane Keato...</td>\n",
       "      <td>Francis Ford Coppola</td>\n",
       "      <td>Mario Puzo,Francis Ford Coppola</td>\n",
       "    </tr>\n",
       "    <tr>\n",
       "      <th>2</th>\n",
       "      <td>3</td>\n",
       "      <td>The Dark Knight</td>\n",
       "      <td>2008</td>\n",
       "      <td>9.0</td>\n",
       "      <td>[Action, Crime, Drama]</td>\n",
       "      <td>PG-13</td>\n",
       "      <td>2h 32m</td>\n",
       "      <td>[Why So Serious?]</td>\n",
       "      <td>185000000</td>\n",
       "      <td>1006234167</td>\n",
       "      <td>Christian Bale,Heath Ledger,Aaron Eckhart,Mich...</td>\n",
       "      <td>Christopher Nolan</td>\n",
       "      <td>Jonathan Nolan,Christopher Nolan,David S. Goyer</td>\n",
       "    </tr>\n",
       "    <tr>\n",
       "      <th>3</th>\n",
       "      <td>4</td>\n",
       "      <td>The Godfather Part II</td>\n",
       "      <td>1974</td>\n",
       "      <td>9.0</td>\n",
       "      <td>[Crime, Drama]</td>\n",
       "      <td>R</td>\n",
       "      <td>3h 22m</td>\n",
       "      <td>[All the power on earth can't change destiny.]</td>\n",
       "      <td>13000000</td>\n",
       "      <td>47961919</td>\n",
       "      <td>Al Pacino,Robert De Niro,Robert Duvall,Diane K...</td>\n",
       "      <td>Francis Ford Coppola</td>\n",
       "      <td>Francis Ford Coppola,Mario Puzo</td>\n",
       "    </tr>\n",
       "    <tr>\n",
       "      <th>4</th>\n",
       "      <td>5</td>\n",
       "      <td>12 Angry Men</td>\n",
       "      <td>1957</td>\n",
       "      <td>9.0</td>\n",
       "      <td>[Crime, Drama]</td>\n",
       "      <td>Approved</td>\n",
       "      <td>1h 36m</td>\n",
       "      <td>[Life Is In Their Hands -- Death Is On Their M...</td>\n",
       "      <td>350000</td>\n",
       "      <td>955</td>\n",
       "      <td>Henry Fonda,Lee J. Cobb,Martin Balsam,John Fie...</td>\n",
       "      <td>Sidney Lumet</td>\n",
       "      <td>Reginald Rose</td>\n",
       "    </tr>\n",
       "  </tbody>\n",
       "</table>\n",
       "</div>"
      ],
      "text/plain": [
       "   rank                      name  year  rating                   genre  \\\n",
       "0     1  The Shawshank Redemption  1994     9.3                 [Drama]   \n",
       "1     2             The Godfather  1972     9.2          [Crime, Drama]   \n",
       "2     3           The Dark Knight  2008     9.0  [Action, Crime, Drama]   \n",
       "3     4     The Godfather Part II  1974     9.0          [Crime, Drama]   \n",
       "4     5              12 Angry Men  1957     9.0          [Crime, Drama]   \n",
       "\n",
       "  certificate run_time                                            tagline  \\\n",
       "0           R   2h 22m  [Fear can hold you prisoner. Hope can set you ...   \n",
       "1           R   2h 55m                       [An offer you can't refuse.]   \n",
       "2       PG-13   2h 32m                                  [Why So Serious?]   \n",
       "3           R   3h 22m     [All the power on earth can't change destiny.]   \n",
       "4    Approved   1h 36m  [Life Is In Their Hands -- Death Is On Their M...   \n",
       "\n",
       "      budget  box_office                                              casts  \\\n",
       "0   25000000    28884504  Tim Robbins,Morgan Freeman,Bob Gunton,William ...   \n",
       "1    6000000   250341816  Marlon Brando,Al Pacino,James Caan,Diane Keato...   \n",
       "2  185000000  1006234167  Christian Bale,Heath Ledger,Aaron Eckhart,Mich...   \n",
       "3   13000000    47961919  Al Pacino,Robert De Niro,Robert Duvall,Diane K...   \n",
       "4     350000         955  Henry Fonda,Lee J. Cobb,Martin Balsam,John Fie...   \n",
       "\n",
       "              directors                                          writers  \n",
       "0        Frank Darabont                      Stephen King,Frank Darabont  \n",
       "1  Francis Ford Coppola                  Mario Puzo,Francis Ford Coppola  \n",
       "2     Christopher Nolan  Jonathan Nolan,Christopher Nolan,David S. Goyer  \n",
       "3  Francis Ford Coppola                  Francis Ford Coppola,Mario Puzo  \n",
       "4          Sidney Lumet                                    Reginald Rose  "
      ]
     },
     "execution_count": 267,
     "metadata": {},
     "output_type": "execute_result"
    }
   ],
   "source": [
    "movies.head()"
   ]
  },
  {
   "cell_type": "code",
   "execution_count": 268,
   "id": "6db7aaff-3153-4b49-a3fb-c22b339afb84",
   "metadata": {},
   "outputs": [],
   "source": [
    "def convert3(obj):\n",
    "    # Split the string by commas and strip any whitespace\n",
    "    return [actor.strip() for actor in obj.split(',')][:3]  # Get top 3 actors"
   ]
  },
  {
   "cell_type": "code",
   "execution_count": 269,
   "id": "85f682ea-1ff0-4141-b967-c10ad6e56c5a",
   "metadata": {},
   "outputs": [],
   "source": [
    "movies['casts'] = movies['casts'].apply(convert3)"
   ]
  },
  {
   "cell_type": "code",
   "execution_count": 270,
   "id": "4f51e73b-af8e-4c92-ab42-28ee46726c60",
   "metadata": {},
   "outputs": [
    {
     "data": {
      "text/html": [
       "<div>\n",
       "<style scoped>\n",
       "    .dataframe tbody tr th:only-of-type {\n",
       "        vertical-align: middle;\n",
       "    }\n",
       "\n",
       "    .dataframe tbody tr th {\n",
       "        vertical-align: top;\n",
       "    }\n",
       "\n",
       "    .dataframe thead th {\n",
       "        text-align: right;\n",
       "    }\n",
       "</style>\n",
       "<table border=\"1\" class=\"dataframe\">\n",
       "  <thead>\n",
       "    <tr style=\"text-align: right;\">\n",
       "      <th></th>\n",
       "      <th>rank</th>\n",
       "      <th>name</th>\n",
       "      <th>year</th>\n",
       "      <th>rating</th>\n",
       "      <th>genre</th>\n",
       "      <th>certificate</th>\n",
       "      <th>run_time</th>\n",
       "      <th>tagline</th>\n",
       "      <th>budget</th>\n",
       "      <th>box_office</th>\n",
       "      <th>casts</th>\n",
       "      <th>directors</th>\n",
       "      <th>writers</th>\n",
       "    </tr>\n",
       "  </thead>\n",
       "  <tbody>\n",
       "    <tr>\n",
       "      <th>0</th>\n",
       "      <td>1</td>\n",
       "      <td>The Shawshank Redemption</td>\n",
       "      <td>1994</td>\n",
       "      <td>9.3</td>\n",
       "      <td>[Drama]</td>\n",
       "      <td>R</td>\n",
       "      <td>2h 22m</td>\n",
       "      <td>[Fear can hold you prisoner. Hope can set you ...</td>\n",
       "      <td>25000000</td>\n",
       "      <td>28884504</td>\n",
       "      <td>[Tim Robbins, Morgan Freeman, Bob Gunton]</td>\n",
       "      <td>Frank Darabont</td>\n",
       "      <td>Stephen King,Frank Darabont</td>\n",
       "    </tr>\n",
       "    <tr>\n",
       "      <th>1</th>\n",
       "      <td>2</td>\n",
       "      <td>The Godfather</td>\n",
       "      <td>1972</td>\n",
       "      <td>9.2</td>\n",
       "      <td>[Crime, Drama]</td>\n",
       "      <td>R</td>\n",
       "      <td>2h 55m</td>\n",
       "      <td>[An offer you can't refuse.]</td>\n",
       "      <td>6000000</td>\n",
       "      <td>250341816</td>\n",
       "      <td>[Marlon Brando, Al Pacino, James Caan]</td>\n",
       "      <td>Francis Ford Coppola</td>\n",
       "      <td>Mario Puzo,Francis Ford Coppola</td>\n",
       "    </tr>\n",
       "    <tr>\n",
       "      <th>2</th>\n",
       "      <td>3</td>\n",
       "      <td>The Dark Knight</td>\n",
       "      <td>2008</td>\n",
       "      <td>9.0</td>\n",
       "      <td>[Action, Crime, Drama]</td>\n",
       "      <td>PG-13</td>\n",
       "      <td>2h 32m</td>\n",
       "      <td>[Why So Serious?]</td>\n",
       "      <td>185000000</td>\n",
       "      <td>1006234167</td>\n",
       "      <td>[Christian Bale, Heath Ledger, Aaron Eckhart]</td>\n",
       "      <td>Christopher Nolan</td>\n",
       "      <td>Jonathan Nolan,Christopher Nolan,David S. Goyer</td>\n",
       "    </tr>\n",
       "    <tr>\n",
       "      <th>3</th>\n",
       "      <td>4</td>\n",
       "      <td>The Godfather Part II</td>\n",
       "      <td>1974</td>\n",
       "      <td>9.0</td>\n",
       "      <td>[Crime, Drama]</td>\n",
       "      <td>R</td>\n",
       "      <td>3h 22m</td>\n",
       "      <td>[All the power on earth can't change destiny.]</td>\n",
       "      <td>13000000</td>\n",
       "      <td>47961919</td>\n",
       "      <td>[Al Pacino, Robert De Niro, Robert Duvall]</td>\n",
       "      <td>Francis Ford Coppola</td>\n",
       "      <td>Francis Ford Coppola,Mario Puzo</td>\n",
       "    </tr>\n",
       "    <tr>\n",
       "      <th>4</th>\n",
       "      <td>5</td>\n",
       "      <td>12 Angry Men</td>\n",
       "      <td>1957</td>\n",
       "      <td>9.0</td>\n",
       "      <td>[Crime, Drama]</td>\n",
       "      <td>Approved</td>\n",
       "      <td>1h 36m</td>\n",
       "      <td>[Life Is In Their Hands -- Death Is On Their M...</td>\n",
       "      <td>350000</td>\n",
       "      <td>955</td>\n",
       "      <td>[Henry Fonda, Lee J. Cobb, Martin Balsam]</td>\n",
       "      <td>Sidney Lumet</td>\n",
       "      <td>Reginald Rose</td>\n",
       "    </tr>\n",
       "  </tbody>\n",
       "</table>\n",
       "</div>"
      ],
      "text/plain": [
       "   rank                      name  year  rating                   genre  \\\n",
       "0     1  The Shawshank Redemption  1994     9.3                 [Drama]   \n",
       "1     2             The Godfather  1972     9.2          [Crime, Drama]   \n",
       "2     3           The Dark Knight  2008     9.0  [Action, Crime, Drama]   \n",
       "3     4     The Godfather Part II  1974     9.0          [Crime, Drama]   \n",
       "4     5              12 Angry Men  1957     9.0          [Crime, Drama]   \n",
       "\n",
       "  certificate run_time                                            tagline  \\\n",
       "0           R   2h 22m  [Fear can hold you prisoner. Hope can set you ...   \n",
       "1           R   2h 55m                       [An offer you can't refuse.]   \n",
       "2       PG-13   2h 32m                                  [Why So Serious?]   \n",
       "3           R   3h 22m     [All the power on earth can't change destiny.]   \n",
       "4    Approved   1h 36m  [Life Is In Their Hands -- Death Is On Their M...   \n",
       "\n",
       "      budget  box_office                                          casts  \\\n",
       "0   25000000    28884504      [Tim Robbins, Morgan Freeman, Bob Gunton]   \n",
       "1    6000000   250341816         [Marlon Brando, Al Pacino, James Caan]   \n",
       "2  185000000  1006234167  [Christian Bale, Heath Ledger, Aaron Eckhart]   \n",
       "3   13000000    47961919     [Al Pacino, Robert De Niro, Robert Duvall]   \n",
       "4     350000         955      [Henry Fonda, Lee J. Cobb, Martin Balsam]   \n",
       "\n",
       "              directors                                          writers  \n",
       "0        Frank Darabont                      Stephen King,Frank Darabont  \n",
       "1  Francis Ford Coppola                  Mario Puzo,Francis Ford Coppola  \n",
       "2     Christopher Nolan  Jonathan Nolan,Christopher Nolan,David S. Goyer  \n",
       "3  Francis Ford Coppola                  Francis Ford Coppola,Mario Puzo  \n",
       "4          Sidney Lumet                                    Reginald Rose  "
      ]
     },
     "execution_count": 270,
     "metadata": {},
     "output_type": "execute_result"
    }
   ],
   "source": [
    "movies.head()"
   ]
  },
  {
   "cell_type": "code",
   "execution_count": 271,
   "id": "06e66c18-945f-45b8-9598-5eb6493032bf",
   "metadata": {},
   "outputs": [
    {
     "data": {
      "text/plain": [
       "['Fear can hold you prisoner. Hope can set you free.']"
      ]
     },
     "execution_count": 271,
     "metadata": {},
     "output_type": "execute_result"
    }
   ],
   "source": [
    "movies['tagline'][0]"
   ]
  },
  {
   "cell_type": "code",
   "execution_count": null,
   "id": "956d3bd1-7df5-4435-b407-afb46c89e48c",
   "metadata": {},
   "outputs": [
    {
     "data": {
      "text/plain": [
       "0      [Fear can hold you prisoner. Hope can set you ...\n",
       "1                           [An offer you can't refuse.]\n",
       "2                                      [Why So Serious?]\n",
       "3         [All the power on earth can't change destiny.]\n",
       "4      [Life Is In Their Hands -- Death Is On Their M...\n",
       "                             ...                        \n",
       "245                      [Change begins with a whisper.]\n",
       "246    [There is man and beast at nature's mercy. The...\n",
       "247                     [Wish granted! (DVD re-release)]\n",
       "248             [His Triumph Changed The World Forever.]\n",
       "249    [Inside everyone is a frontier waiting to be d...\n",
       "Name: tagline, Length: 250, dtype: object"
      ]
     },
     "execution_count": 272,
     "metadata": {},
     "output_type": "execute_result"
    }
   ],
   "source": [
    "movies['tagline'].apply(lambda x: x.split() if isinstance(x, str) else x)"
   ]
  },
  {
   "cell_type": "code",
   "execution_count": 273,
   "id": "02a5af97-4eef-4484-bcb4-0560c38fa627",
   "metadata": {},
   "outputs": [],
   "source": [
    "movies['tagline'] = movies['tagline'].apply(lambda x: x.split() if isinstance(x, str) else x)"
   ]
  },
  {
   "cell_type": "code",
   "execution_count": 274,
   "id": "4e80405c-9c03-41b7-9f36-70ca47b24d8a",
   "metadata": {},
   "outputs": [
    {
     "data": {
      "text/html": [
       "<div>\n",
       "<style scoped>\n",
       "    .dataframe tbody tr th:only-of-type {\n",
       "        vertical-align: middle;\n",
       "    }\n",
       "\n",
       "    .dataframe tbody tr th {\n",
       "        vertical-align: top;\n",
       "    }\n",
       "\n",
       "    .dataframe thead th {\n",
       "        text-align: right;\n",
       "    }\n",
       "</style>\n",
       "<table border=\"1\" class=\"dataframe\">\n",
       "  <thead>\n",
       "    <tr style=\"text-align: right;\">\n",
       "      <th></th>\n",
       "      <th>rank</th>\n",
       "      <th>name</th>\n",
       "      <th>year</th>\n",
       "      <th>rating</th>\n",
       "      <th>genre</th>\n",
       "      <th>certificate</th>\n",
       "      <th>run_time</th>\n",
       "      <th>tagline</th>\n",
       "      <th>budget</th>\n",
       "      <th>box_office</th>\n",
       "      <th>casts</th>\n",
       "      <th>directors</th>\n",
       "      <th>writers</th>\n",
       "    </tr>\n",
       "  </thead>\n",
       "  <tbody>\n",
       "    <tr>\n",
       "      <th>0</th>\n",
       "      <td>1</td>\n",
       "      <td>The Shawshank Redemption</td>\n",
       "      <td>1994</td>\n",
       "      <td>9.3</td>\n",
       "      <td>[Drama]</td>\n",
       "      <td>R</td>\n",
       "      <td>2h 22m</td>\n",
       "      <td>[Fear can hold you prisoner. Hope can set you ...</td>\n",
       "      <td>25000000</td>\n",
       "      <td>28884504</td>\n",
       "      <td>[Tim Robbins, Morgan Freeman, Bob Gunton]</td>\n",
       "      <td>Frank Darabont</td>\n",
       "      <td>Stephen King,Frank Darabont</td>\n",
       "    </tr>\n",
       "    <tr>\n",
       "      <th>1</th>\n",
       "      <td>2</td>\n",
       "      <td>The Godfather</td>\n",
       "      <td>1972</td>\n",
       "      <td>9.2</td>\n",
       "      <td>[Crime, Drama]</td>\n",
       "      <td>R</td>\n",
       "      <td>2h 55m</td>\n",
       "      <td>[An offer you can't refuse.]</td>\n",
       "      <td>6000000</td>\n",
       "      <td>250341816</td>\n",
       "      <td>[Marlon Brando, Al Pacino, James Caan]</td>\n",
       "      <td>Francis Ford Coppola</td>\n",
       "      <td>Mario Puzo,Francis Ford Coppola</td>\n",
       "    </tr>\n",
       "    <tr>\n",
       "      <th>2</th>\n",
       "      <td>3</td>\n",
       "      <td>The Dark Knight</td>\n",
       "      <td>2008</td>\n",
       "      <td>9.0</td>\n",
       "      <td>[Action, Crime, Drama]</td>\n",
       "      <td>PG-13</td>\n",
       "      <td>2h 32m</td>\n",
       "      <td>[Why So Serious?]</td>\n",
       "      <td>185000000</td>\n",
       "      <td>1006234167</td>\n",
       "      <td>[Christian Bale, Heath Ledger, Aaron Eckhart]</td>\n",
       "      <td>Christopher Nolan</td>\n",
       "      <td>Jonathan Nolan,Christopher Nolan,David S. Goyer</td>\n",
       "    </tr>\n",
       "    <tr>\n",
       "      <th>3</th>\n",
       "      <td>4</td>\n",
       "      <td>The Godfather Part II</td>\n",
       "      <td>1974</td>\n",
       "      <td>9.0</td>\n",
       "      <td>[Crime, Drama]</td>\n",
       "      <td>R</td>\n",
       "      <td>3h 22m</td>\n",
       "      <td>[All the power on earth can't change destiny.]</td>\n",
       "      <td>13000000</td>\n",
       "      <td>47961919</td>\n",
       "      <td>[Al Pacino, Robert De Niro, Robert Duvall]</td>\n",
       "      <td>Francis Ford Coppola</td>\n",
       "      <td>Francis Ford Coppola,Mario Puzo</td>\n",
       "    </tr>\n",
       "    <tr>\n",
       "      <th>4</th>\n",
       "      <td>5</td>\n",
       "      <td>12 Angry Men</td>\n",
       "      <td>1957</td>\n",
       "      <td>9.0</td>\n",
       "      <td>[Crime, Drama]</td>\n",
       "      <td>Approved</td>\n",
       "      <td>1h 36m</td>\n",
       "      <td>[Life Is In Their Hands -- Death Is On Their M...</td>\n",
       "      <td>350000</td>\n",
       "      <td>955</td>\n",
       "      <td>[Henry Fonda, Lee J. Cobb, Martin Balsam]</td>\n",
       "      <td>Sidney Lumet</td>\n",
       "      <td>Reginald Rose</td>\n",
       "    </tr>\n",
       "  </tbody>\n",
       "</table>\n",
       "</div>"
      ],
      "text/plain": [
       "   rank                      name  year  rating                   genre  \\\n",
       "0     1  The Shawshank Redemption  1994     9.3                 [Drama]   \n",
       "1     2             The Godfather  1972     9.2          [Crime, Drama]   \n",
       "2     3           The Dark Knight  2008     9.0  [Action, Crime, Drama]   \n",
       "3     4     The Godfather Part II  1974     9.0          [Crime, Drama]   \n",
       "4     5              12 Angry Men  1957     9.0          [Crime, Drama]   \n",
       "\n",
       "  certificate run_time                                            tagline  \\\n",
       "0           R   2h 22m  [Fear can hold you prisoner. Hope can set you ...   \n",
       "1           R   2h 55m                       [An offer you can't refuse.]   \n",
       "2       PG-13   2h 32m                                  [Why So Serious?]   \n",
       "3           R   3h 22m     [All the power on earth can't change destiny.]   \n",
       "4    Approved   1h 36m  [Life Is In Their Hands -- Death Is On Their M...   \n",
       "\n",
       "      budget  box_office                                          casts  \\\n",
       "0   25000000    28884504      [Tim Robbins, Morgan Freeman, Bob Gunton]   \n",
       "1    6000000   250341816         [Marlon Brando, Al Pacino, James Caan]   \n",
       "2  185000000  1006234167  [Christian Bale, Heath Ledger, Aaron Eckhart]   \n",
       "3   13000000    47961919     [Al Pacino, Robert De Niro, Robert Duvall]   \n",
       "4     350000         955      [Henry Fonda, Lee J. Cobb, Martin Balsam]   \n",
       "\n",
       "              directors                                          writers  \n",
       "0        Frank Darabont                      Stephen King,Frank Darabont  \n",
       "1  Francis Ford Coppola                  Mario Puzo,Francis Ford Coppola  \n",
       "2     Christopher Nolan  Jonathan Nolan,Christopher Nolan,David S. Goyer  \n",
       "3  Francis Ford Coppola                  Francis Ford Coppola,Mario Puzo  \n",
       "4          Sidney Lumet                                    Reginald Rose  "
      ]
     },
     "execution_count": 274,
     "metadata": {},
     "output_type": "execute_result"
    }
   ],
   "source": [
    "movies.head()"
   ]
  },
  {
   "cell_type": "code",
   "execution_count": 275,
   "id": "66ccd74c-8088-495e-9306-d44e363334ab",
   "metadata": {},
   "outputs": [
    {
     "data": {
      "text/plain": [
       "0            [TimRobbins, MorganFreeman, BobGunton]\n",
       "1               [MarlonBrando, AlPacino, JamesCaan]\n",
       "2        [ChristianBale, HeathLedger, AaronEckhart]\n",
       "3            [AlPacino, RobertDeNiro, RobertDuvall]\n",
       "4             [HenryFonda, LeeJ.Cobb, MartinBalsam]\n",
       "                           ...                     \n",
       "245         [ViolaDavis, EmmaStone, OctaviaSpencer]\n",
       "246    [MaksimMunzuk, YuriySolomin, MikhailBychkov]\n",
       "247      [ScottWeinger, RobinWilliams, LindaLarkin]\n",
       "248    [BenKingsley, JohnGielgud, RohiniHattangadi]\n",
       "249     [KevinCostner, MaryMcDonnell, GrahamGreene]\n",
       "Name: casts, Length: 250, dtype: object"
      ]
     },
     "execution_count": 275,
     "metadata": {},
     "output_type": "execute_result"
    }
   ],
   "source": [
    "movies['genre'].apply(lambda x:[i.replace(\" \",\"\") for i in x])\n",
    "movies['tagline'].apply(lambda x:[i.replace(\" \",\"\") for i in x])\n",
    "movies['casts'].apply(lambda x:[i.replace(\" \",\"\") for i in x])"
   ]
  },
  {
   "cell_type": "code",
   "execution_count": 276,
   "id": "05cc38cb-e37d-4ca4-b7aa-48a53cfb1e13",
   "metadata": {},
   "outputs": [],
   "source": [
    "movies['genre'] = movies['genre'].apply(lambda x:[i.replace(\" \",\"\") for i in x])\n",
    "movies['tagline'] = movies['tagline'].apply(lambda x:[i.replace(\" \",\"\") for i in x])\n",
    "movies['casts'] = movies['casts'].apply(lambda x:[i.replace(\" \",\"\") for i in x])"
   ]
  },
  {
   "cell_type": "code",
   "execution_count": 277,
   "id": "7d3e58f5-7bbb-494a-94df-bf76972d346d",
   "metadata": {},
   "outputs": [
    {
     "data": {
      "text/html": [
       "<div>\n",
       "<style scoped>\n",
       "    .dataframe tbody tr th:only-of-type {\n",
       "        vertical-align: middle;\n",
       "    }\n",
       "\n",
       "    .dataframe tbody tr th {\n",
       "        vertical-align: top;\n",
       "    }\n",
       "\n",
       "    .dataframe thead th {\n",
       "        text-align: right;\n",
       "    }\n",
       "</style>\n",
       "<table border=\"1\" class=\"dataframe\">\n",
       "  <thead>\n",
       "    <tr style=\"text-align: right;\">\n",
       "      <th></th>\n",
       "      <th>rank</th>\n",
       "      <th>name</th>\n",
       "      <th>year</th>\n",
       "      <th>rating</th>\n",
       "      <th>genre</th>\n",
       "      <th>certificate</th>\n",
       "      <th>run_time</th>\n",
       "      <th>tagline</th>\n",
       "      <th>budget</th>\n",
       "      <th>box_office</th>\n",
       "      <th>casts</th>\n",
       "      <th>directors</th>\n",
       "      <th>writers</th>\n",
       "    </tr>\n",
       "  </thead>\n",
       "  <tbody>\n",
       "    <tr>\n",
       "      <th>0</th>\n",
       "      <td>1</td>\n",
       "      <td>The Shawshank Redemption</td>\n",
       "      <td>1994</td>\n",
       "      <td>9.3</td>\n",
       "      <td>[Drama]</td>\n",
       "      <td>R</td>\n",
       "      <td>2h 22m</td>\n",
       "      <td>[Fearcanholdyouprisoner.Hopecansetyoufree.]</td>\n",
       "      <td>25000000</td>\n",
       "      <td>28884504</td>\n",
       "      <td>[TimRobbins, MorganFreeman, BobGunton]</td>\n",
       "      <td>Frank Darabont</td>\n",
       "      <td>Stephen King,Frank Darabont</td>\n",
       "    </tr>\n",
       "    <tr>\n",
       "      <th>1</th>\n",
       "      <td>2</td>\n",
       "      <td>The Godfather</td>\n",
       "      <td>1972</td>\n",
       "      <td>9.2</td>\n",
       "      <td>[Crime, Drama]</td>\n",
       "      <td>R</td>\n",
       "      <td>2h 55m</td>\n",
       "      <td>[Anofferyoucan'trefuse.]</td>\n",
       "      <td>6000000</td>\n",
       "      <td>250341816</td>\n",
       "      <td>[MarlonBrando, AlPacino, JamesCaan]</td>\n",
       "      <td>Francis Ford Coppola</td>\n",
       "      <td>Mario Puzo,Francis Ford Coppola</td>\n",
       "    </tr>\n",
       "    <tr>\n",
       "      <th>2</th>\n",
       "      <td>3</td>\n",
       "      <td>The Dark Knight</td>\n",
       "      <td>2008</td>\n",
       "      <td>9.0</td>\n",
       "      <td>[Action, Crime, Drama]</td>\n",
       "      <td>PG-13</td>\n",
       "      <td>2h 32m</td>\n",
       "      <td>[WhySoSerious?]</td>\n",
       "      <td>185000000</td>\n",
       "      <td>1006234167</td>\n",
       "      <td>[ChristianBale, HeathLedger, AaronEckhart]</td>\n",
       "      <td>Christopher Nolan</td>\n",
       "      <td>Jonathan Nolan,Christopher Nolan,David S. Goyer</td>\n",
       "    </tr>\n",
       "    <tr>\n",
       "      <th>3</th>\n",
       "      <td>4</td>\n",
       "      <td>The Godfather Part II</td>\n",
       "      <td>1974</td>\n",
       "      <td>9.0</td>\n",
       "      <td>[Crime, Drama]</td>\n",
       "      <td>R</td>\n",
       "      <td>3h 22m</td>\n",
       "      <td>[Allthepoweronearthcan'tchangedestiny.]</td>\n",
       "      <td>13000000</td>\n",
       "      <td>47961919</td>\n",
       "      <td>[AlPacino, RobertDeNiro, RobertDuvall]</td>\n",
       "      <td>Francis Ford Coppola</td>\n",
       "      <td>Francis Ford Coppola,Mario Puzo</td>\n",
       "    </tr>\n",
       "    <tr>\n",
       "      <th>4</th>\n",
       "      <td>5</td>\n",
       "      <td>12 Angry Men</td>\n",
       "      <td>1957</td>\n",
       "      <td>9.0</td>\n",
       "      <td>[Crime, Drama]</td>\n",
       "      <td>Approved</td>\n",
       "      <td>1h 36m</td>\n",
       "      <td>[LifeIsInTheirHands--DeathIsOnTheirMinds!]</td>\n",
       "      <td>350000</td>\n",
       "      <td>955</td>\n",
       "      <td>[HenryFonda, LeeJ.Cobb, MartinBalsam]</td>\n",
       "      <td>Sidney Lumet</td>\n",
       "      <td>Reginald Rose</td>\n",
       "    </tr>\n",
       "  </tbody>\n",
       "</table>\n",
       "</div>"
      ],
      "text/plain": [
       "   rank                      name  year  rating                   genre  \\\n",
       "0     1  The Shawshank Redemption  1994     9.3                 [Drama]   \n",
       "1     2             The Godfather  1972     9.2          [Crime, Drama]   \n",
       "2     3           The Dark Knight  2008     9.0  [Action, Crime, Drama]   \n",
       "3     4     The Godfather Part II  1974     9.0          [Crime, Drama]   \n",
       "4     5              12 Angry Men  1957     9.0          [Crime, Drama]   \n",
       "\n",
       "  certificate run_time                                      tagline  \\\n",
       "0           R   2h 22m  [Fearcanholdyouprisoner.Hopecansetyoufree.]   \n",
       "1           R   2h 55m                     [Anofferyoucan'trefuse.]   \n",
       "2       PG-13   2h 32m                              [WhySoSerious?]   \n",
       "3           R   3h 22m      [Allthepoweronearthcan'tchangedestiny.]   \n",
       "4    Approved   1h 36m   [LifeIsInTheirHands--DeathIsOnTheirMinds!]   \n",
       "\n",
       "      budget  box_office                                       casts  \\\n",
       "0   25000000    28884504      [TimRobbins, MorganFreeman, BobGunton]   \n",
       "1    6000000   250341816         [MarlonBrando, AlPacino, JamesCaan]   \n",
       "2  185000000  1006234167  [ChristianBale, HeathLedger, AaronEckhart]   \n",
       "3   13000000    47961919      [AlPacino, RobertDeNiro, RobertDuvall]   \n",
       "4     350000         955       [HenryFonda, LeeJ.Cobb, MartinBalsam]   \n",
       "\n",
       "              directors                                          writers  \n",
       "0        Frank Darabont                      Stephen King,Frank Darabont  \n",
       "1  Francis Ford Coppola                  Mario Puzo,Francis Ford Coppola  \n",
       "2     Christopher Nolan  Jonathan Nolan,Christopher Nolan,David S. Goyer  \n",
       "3  Francis Ford Coppola                  Francis Ford Coppola,Mario Puzo  \n",
       "4          Sidney Lumet                                    Reginald Rose  "
      ]
     },
     "execution_count": 277,
     "metadata": {},
     "output_type": "execute_result"
    }
   ],
   "source": [
    "movies.head()"
   ]
  },
  {
   "cell_type": "code",
   "execution_count": 278,
   "id": "2ee21424-e26c-40a5-82ae-c55b5ada63ad",
   "metadata": {},
   "outputs": [],
   "source": [
    "movies['tags'] = movies['genre'] + movies['tagline'] + movies['casts'] "
   ]
  },
  {
   "cell_type": "code",
   "execution_count": 279,
   "id": "5580d88d-c3a4-4463-b448-ce8bf9235faa",
   "metadata": {},
   "outputs": [
    {
     "data": {
      "text/html": [
       "<div>\n",
       "<style scoped>\n",
       "    .dataframe tbody tr th:only-of-type {\n",
       "        vertical-align: middle;\n",
       "    }\n",
       "\n",
       "    .dataframe tbody tr th {\n",
       "        vertical-align: top;\n",
       "    }\n",
       "\n",
       "    .dataframe thead th {\n",
       "        text-align: right;\n",
       "    }\n",
       "</style>\n",
       "<table border=\"1\" class=\"dataframe\">\n",
       "  <thead>\n",
       "    <tr style=\"text-align: right;\">\n",
       "      <th></th>\n",
       "      <th>rank</th>\n",
       "      <th>name</th>\n",
       "      <th>year</th>\n",
       "      <th>rating</th>\n",
       "      <th>genre</th>\n",
       "      <th>certificate</th>\n",
       "      <th>run_time</th>\n",
       "      <th>tagline</th>\n",
       "      <th>budget</th>\n",
       "      <th>box_office</th>\n",
       "      <th>casts</th>\n",
       "      <th>directors</th>\n",
       "      <th>writers</th>\n",
       "      <th>tags</th>\n",
       "    </tr>\n",
       "  </thead>\n",
       "  <tbody>\n",
       "    <tr>\n",
       "      <th>0</th>\n",
       "      <td>1</td>\n",
       "      <td>The Shawshank Redemption</td>\n",
       "      <td>1994</td>\n",
       "      <td>9.3</td>\n",
       "      <td>[Drama]</td>\n",
       "      <td>R</td>\n",
       "      <td>2h 22m</td>\n",
       "      <td>[Fearcanholdyouprisoner.Hopecansetyoufree.]</td>\n",
       "      <td>25000000</td>\n",
       "      <td>28884504</td>\n",
       "      <td>[TimRobbins, MorganFreeman, BobGunton]</td>\n",
       "      <td>Frank Darabont</td>\n",
       "      <td>Stephen King,Frank Darabont</td>\n",
       "      <td>[Drama, Fearcanholdyouprisoner.Hopecansetyoufr...</td>\n",
       "    </tr>\n",
       "    <tr>\n",
       "      <th>1</th>\n",
       "      <td>2</td>\n",
       "      <td>The Godfather</td>\n",
       "      <td>1972</td>\n",
       "      <td>9.2</td>\n",
       "      <td>[Crime, Drama]</td>\n",
       "      <td>R</td>\n",
       "      <td>2h 55m</td>\n",
       "      <td>[Anofferyoucan'trefuse.]</td>\n",
       "      <td>6000000</td>\n",
       "      <td>250341816</td>\n",
       "      <td>[MarlonBrando, AlPacino, JamesCaan]</td>\n",
       "      <td>Francis Ford Coppola</td>\n",
       "      <td>Mario Puzo,Francis Ford Coppola</td>\n",
       "      <td>[Crime, Drama, Anofferyoucan'trefuse., MarlonB...</td>\n",
       "    </tr>\n",
       "    <tr>\n",
       "      <th>2</th>\n",
       "      <td>3</td>\n",
       "      <td>The Dark Knight</td>\n",
       "      <td>2008</td>\n",
       "      <td>9.0</td>\n",
       "      <td>[Action, Crime, Drama]</td>\n",
       "      <td>PG-13</td>\n",
       "      <td>2h 32m</td>\n",
       "      <td>[WhySoSerious?]</td>\n",
       "      <td>185000000</td>\n",
       "      <td>1006234167</td>\n",
       "      <td>[ChristianBale, HeathLedger, AaronEckhart]</td>\n",
       "      <td>Christopher Nolan</td>\n",
       "      <td>Jonathan Nolan,Christopher Nolan,David S. Goyer</td>\n",
       "      <td>[Action, Crime, Drama, WhySoSerious?, Christia...</td>\n",
       "    </tr>\n",
       "    <tr>\n",
       "      <th>3</th>\n",
       "      <td>4</td>\n",
       "      <td>The Godfather Part II</td>\n",
       "      <td>1974</td>\n",
       "      <td>9.0</td>\n",
       "      <td>[Crime, Drama]</td>\n",
       "      <td>R</td>\n",
       "      <td>3h 22m</td>\n",
       "      <td>[Allthepoweronearthcan'tchangedestiny.]</td>\n",
       "      <td>13000000</td>\n",
       "      <td>47961919</td>\n",
       "      <td>[AlPacino, RobertDeNiro, RobertDuvall]</td>\n",
       "      <td>Francis Ford Coppola</td>\n",
       "      <td>Francis Ford Coppola,Mario Puzo</td>\n",
       "      <td>[Crime, Drama, Allthepoweronearthcan'tchangede...</td>\n",
       "    </tr>\n",
       "    <tr>\n",
       "      <th>4</th>\n",
       "      <td>5</td>\n",
       "      <td>12 Angry Men</td>\n",
       "      <td>1957</td>\n",
       "      <td>9.0</td>\n",
       "      <td>[Crime, Drama]</td>\n",
       "      <td>Approved</td>\n",
       "      <td>1h 36m</td>\n",
       "      <td>[LifeIsInTheirHands--DeathIsOnTheirMinds!]</td>\n",
       "      <td>350000</td>\n",
       "      <td>955</td>\n",
       "      <td>[HenryFonda, LeeJ.Cobb, MartinBalsam]</td>\n",
       "      <td>Sidney Lumet</td>\n",
       "      <td>Reginald Rose</td>\n",
       "      <td>[Crime, Drama, LifeIsInTheirHands--DeathIsOnTh...</td>\n",
       "    </tr>\n",
       "  </tbody>\n",
       "</table>\n",
       "</div>"
      ],
      "text/plain": [
       "   rank                      name  year  rating                   genre  \\\n",
       "0     1  The Shawshank Redemption  1994     9.3                 [Drama]   \n",
       "1     2             The Godfather  1972     9.2          [Crime, Drama]   \n",
       "2     3           The Dark Knight  2008     9.0  [Action, Crime, Drama]   \n",
       "3     4     The Godfather Part II  1974     9.0          [Crime, Drama]   \n",
       "4     5              12 Angry Men  1957     9.0          [Crime, Drama]   \n",
       "\n",
       "  certificate run_time                                      tagline  \\\n",
       "0           R   2h 22m  [Fearcanholdyouprisoner.Hopecansetyoufree.]   \n",
       "1           R   2h 55m                     [Anofferyoucan'trefuse.]   \n",
       "2       PG-13   2h 32m                              [WhySoSerious?]   \n",
       "3           R   3h 22m      [Allthepoweronearthcan'tchangedestiny.]   \n",
       "4    Approved   1h 36m   [LifeIsInTheirHands--DeathIsOnTheirMinds!]   \n",
       "\n",
       "      budget  box_office                                       casts  \\\n",
       "0   25000000    28884504      [TimRobbins, MorganFreeman, BobGunton]   \n",
       "1    6000000   250341816         [MarlonBrando, AlPacino, JamesCaan]   \n",
       "2  185000000  1006234167  [ChristianBale, HeathLedger, AaronEckhart]   \n",
       "3   13000000    47961919      [AlPacino, RobertDeNiro, RobertDuvall]   \n",
       "4     350000         955       [HenryFonda, LeeJ.Cobb, MartinBalsam]   \n",
       "\n",
       "              directors                                          writers  \\\n",
       "0        Frank Darabont                      Stephen King,Frank Darabont   \n",
       "1  Francis Ford Coppola                  Mario Puzo,Francis Ford Coppola   \n",
       "2     Christopher Nolan  Jonathan Nolan,Christopher Nolan,David S. Goyer   \n",
       "3  Francis Ford Coppola                  Francis Ford Coppola,Mario Puzo   \n",
       "4          Sidney Lumet                                    Reginald Rose   \n",
       "\n",
       "                                                tags  \n",
       "0  [Drama, Fearcanholdyouprisoner.Hopecansetyoufr...  \n",
       "1  [Crime, Drama, Anofferyoucan'trefuse., MarlonB...  \n",
       "2  [Action, Crime, Drama, WhySoSerious?, Christia...  \n",
       "3  [Crime, Drama, Allthepoweronearthcan'tchangede...  \n",
       "4  [Crime, Drama, LifeIsInTheirHands--DeathIsOnTh...  "
      ]
     },
     "execution_count": 279,
     "metadata": {},
     "output_type": "execute_result"
    }
   ],
   "source": [
    "movies.head()"
   ]
  },
  {
   "cell_type": "code",
   "execution_count": 280,
   "id": "11491b5b-eda1-4252-805e-e561a831e3ca",
   "metadata": {},
   "outputs": [],
   "source": [
    "new_df = movies[['rank','name','tags']]"
   ]
  },
  {
   "cell_type": "code",
   "execution_count": 281,
   "id": "1370004e-db20-4a6f-bada-171a858215a7",
   "metadata": {},
   "outputs": [
    {
     "data": {
      "text/html": [
       "<div>\n",
       "<style scoped>\n",
       "    .dataframe tbody tr th:only-of-type {\n",
       "        vertical-align: middle;\n",
       "    }\n",
       "\n",
       "    .dataframe tbody tr th {\n",
       "        vertical-align: top;\n",
       "    }\n",
       "\n",
       "    .dataframe thead th {\n",
       "        text-align: right;\n",
       "    }\n",
       "</style>\n",
       "<table border=\"1\" class=\"dataframe\">\n",
       "  <thead>\n",
       "    <tr style=\"text-align: right;\">\n",
       "      <th></th>\n",
       "      <th>rank</th>\n",
       "      <th>name</th>\n",
       "      <th>tags</th>\n",
       "    </tr>\n",
       "  </thead>\n",
       "  <tbody>\n",
       "    <tr>\n",
       "      <th>0</th>\n",
       "      <td>1</td>\n",
       "      <td>The Shawshank Redemption</td>\n",
       "      <td>[Drama, Fearcanholdyouprisoner.Hopecansetyoufr...</td>\n",
       "    </tr>\n",
       "    <tr>\n",
       "      <th>1</th>\n",
       "      <td>2</td>\n",
       "      <td>The Godfather</td>\n",
       "      <td>[Crime, Drama, Anofferyoucan'trefuse., MarlonB...</td>\n",
       "    </tr>\n",
       "    <tr>\n",
       "      <th>2</th>\n",
       "      <td>3</td>\n",
       "      <td>The Dark Knight</td>\n",
       "      <td>[Action, Crime, Drama, WhySoSerious?, Christia...</td>\n",
       "    </tr>\n",
       "    <tr>\n",
       "      <th>3</th>\n",
       "      <td>4</td>\n",
       "      <td>The Godfather Part II</td>\n",
       "      <td>[Crime, Drama, Allthepoweronearthcan'tchangede...</td>\n",
       "    </tr>\n",
       "    <tr>\n",
       "      <th>4</th>\n",
       "      <td>5</td>\n",
       "      <td>12 Angry Men</td>\n",
       "      <td>[Crime, Drama, LifeIsInTheirHands--DeathIsOnTh...</td>\n",
       "    </tr>\n",
       "    <tr>\n",
       "      <th>...</th>\n",
       "      <td>...</td>\n",
       "      <td>...</td>\n",
       "      <td>...</td>\n",
       "    </tr>\n",
       "    <tr>\n",
       "      <th>245</th>\n",
       "      <td>246</td>\n",
       "      <td>The Help</td>\n",
       "      <td>[Drama, Changebeginswithawhisper., ViolaDavis,...</td>\n",
       "    </tr>\n",
       "    <tr>\n",
       "      <th>246</th>\n",
       "      <td>247</td>\n",
       "      <td>Dersu Uzala</td>\n",
       "      <td>[Adventure, Biography, Drama, Thereismanandbea...</td>\n",
       "    </tr>\n",
       "    <tr>\n",
       "      <th>247</th>\n",
       "      <td>248</td>\n",
       "      <td>Aladdin</td>\n",
       "      <td>[Animation, Adventure, Comedy, Wishgranted!(DV...</td>\n",
       "    </tr>\n",
       "    <tr>\n",
       "      <th>248</th>\n",
       "      <td>249</td>\n",
       "      <td>Gandhi</td>\n",
       "      <td>[Biography, Drama, History, HisTriumphChangedT...</td>\n",
       "    </tr>\n",
       "    <tr>\n",
       "      <th>249</th>\n",
       "      <td>250</td>\n",
       "      <td>Dances with Wolves</td>\n",
       "      <td>[Adventure, Drama, Western, Insideeveryoneisaf...</td>\n",
       "    </tr>\n",
       "  </tbody>\n",
       "</table>\n",
       "<p>250 rows × 3 columns</p>\n",
       "</div>"
      ],
      "text/plain": [
       "     rank                      name  \\\n",
       "0       1  The Shawshank Redemption   \n",
       "1       2             The Godfather   \n",
       "2       3           The Dark Knight   \n",
       "3       4     The Godfather Part II   \n",
       "4       5              12 Angry Men   \n",
       "..    ...                       ...   \n",
       "245   246                  The Help   \n",
       "246   247               Dersu Uzala   \n",
       "247   248                   Aladdin   \n",
       "248   249                    Gandhi   \n",
       "249   250        Dances with Wolves   \n",
       "\n",
       "                                                  tags  \n",
       "0    [Drama, Fearcanholdyouprisoner.Hopecansetyoufr...  \n",
       "1    [Crime, Drama, Anofferyoucan'trefuse., MarlonB...  \n",
       "2    [Action, Crime, Drama, WhySoSerious?, Christia...  \n",
       "3    [Crime, Drama, Allthepoweronearthcan'tchangede...  \n",
       "4    [Crime, Drama, LifeIsInTheirHands--DeathIsOnTh...  \n",
       "..                                                 ...  \n",
       "245  [Drama, Changebeginswithawhisper., ViolaDavis,...  \n",
       "246  [Adventure, Biography, Drama, Thereismanandbea...  \n",
       "247  [Animation, Adventure, Comedy, Wishgranted!(DV...  \n",
       "248  [Biography, Drama, History, HisTriumphChangedT...  \n",
       "249  [Adventure, Drama, Western, Insideeveryoneisaf...  \n",
       "\n",
       "[250 rows x 3 columns]"
      ]
     },
     "execution_count": 281,
     "metadata": {},
     "output_type": "execute_result"
    }
   ],
   "source": [
    "new_df"
   ]
  },
  {
   "cell_type": "code",
   "execution_count": 282,
   "id": "cae304da-9ddc-4bc2-a359-9cc9d1b95c04",
   "metadata": {},
   "outputs": [
    {
     "data": {
      "text/plain": [
       "0      Drama Fearcanholdyouprisoner.Hopecansetyoufree...\n",
       "1      Crime Drama Anofferyoucan'trefuse. MarlonBrand...\n",
       "2      Action Crime Drama WhySoSerious? ChristianBale...\n",
       "3      Crime Drama Allthepoweronearthcan'tchangedesti...\n",
       "4      Crime Drama LifeIsInTheirHands--DeathIsOnTheir...\n",
       "                             ...                        \n",
       "245    Drama Changebeginswithawhisper. ViolaDavis Emm...\n",
       "246    Adventure Biography Drama Thereismanandbeastat...\n",
       "247    Animation Adventure Comedy Wishgranted!(DVDre-...\n",
       "248    Biography Drama History HisTriumphChangedTheWo...\n",
       "249    Adventure Drama Western Insideeveryoneisafront...\n",
       "Name: tags, Length: 250, dtype: object"
      ]
     },
     "execution_count": 282,
     "metadata": {},
     "output_type": "execute_result"
    }
   ],
   "source": [
    "new_df['tags'].apply(lambda x:\" \".join(x))"
   ]
  },
  {
   "cell_type": "code",
   "execution_count": 283,
   "id": "01a1ab3a-ca89-4805-b01d-226dc2bea3c7",
   "metadata": {},
   "outputs": [
    {
     "name": "stderr",
     "output_type": "stream",
     "text": [
      "C:\\Users\\Khyati\\AppData\\Local\\Temp\\ipykernel_6076\\3089450492.py:1: SettingWithCopyWarning: \n",
      "A value is trying to be set on a copy of a slice from a DataFrame.\n",
      "Try using .loc[row_indexer,col_indexer] = value instead\n",
      "\n",
      "See the caveats in the documentation: https://pandas.pydata.org/pandas-docs/stable/user_guide/indexing.html#returning-a-view-versus-a-copy\n",
      "  new_df['tags'] = new_df['tags'].apply(lambda x:\" \".join(x))\n"
     ]
    }
   ],
   "source": [
    "new_df['tags'] = new_df['tags'].apply(lambda x:\" \".join(x))"
   ]
  },
  {
   "cell_type": "code",
   "execution_count": 284,
   "id": "7cd6ea09-d3bb-4ef3-bd9a-53819152bc11",
   "metadata": {},
   "outputs": [
    {
     "data": {
      "text/html": [
       "<div>\n",
       "<style scoped>\n",
       "    .dataframe tbody tr th:only-of-type {\n",
       "        vertical-align: middle;\n",
       "    }\n",
       "\n",
       "    .dataframe tbody tr th {\n",
       "        vertical-align: top;\n",
       "    }\n",
       "\n",
       "    .dataframe thead th {\n",
       "        text-align: right;\n",
       "    }\n",
       "</style>\n",
       "<table border=\"1\" class=\"dataframe\">\n",
       "  <thead>\n",
       "    <tr style=\"text-align: right;\">\n",
       "      <th></th>\n",
       "      <th>rank</th>\n",
       "      <th>name</th>\n",
       "      <th>tags</th>\n",
       "    </tr>\n",
       "  </thead>\n",
       "  <tbody>\n",
       "    <tr>\n",
       "      <th>0</th>\n",
       "      <td>1</td>\n",
       "      <td>The Shawshank Redemption</td>\n",
       "      <td>Drama Fearcanholdyouprisoner.Hopecansetyoufree...</td>\n",
       "    </tr>\n",
       "    <tr>\n",
       "      <th>1</th>\n",
       "      <td>2</td>\n",
       "      <td>The Godfather</td>\n",
       "      <td>Crime Drama Anofferyoucan'trefuse. MarlonBrand...</td>\n",
       "    </tr>\n",
       "    <tr>\n",
       "      <th>2</th>\n",
       "      <td>3</td>\n",
       "      <td>The Dark Knight</td>\n",
       "      <td>Action Crime Drama WhySoSerious? ChristianBale...</td>\n",
       "    </tr>\n",
       "    <tr>\n",
       "      <th>3</th>\n",
       "      <td>4</td>\n",
       "      <td>The Godfather Part II</td>\n",
       "      <td>Crime Drama Allthepoweronearthcan'tchangedesti...</td>\n",
       "    </tr>\n",
       "    <tr>\n",
       "      <th>4</th>\n",
       "      <td>5</td>\n",
       "      <td>12 Angry Men</td>\n",
       "      <td>Crime Drama LifeIsInTheirHands--DeathIsOnTheir...</td>\n",
       "    </tr>\n",
       "  </tbody>\n",
       "</table>\n",
       "</div>"
      ],
      "text/plain": [
       "   rank                      name  \\\n",
       "0     1  The Shawshank Redemption   \n",
       "1     2             The Godfather   \n",
       "2     3           The Dark Knight   \n",
       "3     4     The Godfather Part II   \n",
       "4     5              12 Angry Men   \n",
       "\n",
       "                                                tags  \n",
       "0  Drama Fearcanholdyouprisoner.Hopecansetyoufree...  \n",
       "1  Crime Drama Anofferyoucan'trefuse. MarlonBrand...  \n",
       "2  Action Crime Drama WhySoSerious? ChristianBale...  \n",
       "3  Crime Drama Allthepoweronearthcan'tchangedesti...  \n",
       "4  Crime Drama LifeIsInTheirHands--DeathIsOnTheir...  "
      ]
     },
     "execution_count": 284,
     "metadata": {},
     "output_type": "execute_result"
    }
   ],
   "source": [
    "new_df.head()"
   ]
  },
  {
   "cell_type": "code",
   "execution_count": 285,
   "id": "2328639a-f365-497e-b842-1b48386d2e56",
   "metadata": {},
   "outputs": [
    {
     "data": {
      "text/plain": [
       "'Drama Fearcanholdyouprisoner.Hopecansetyoufree. TimRobbins MorganFreeman BobGunton'"
      ]
     },
     "execution_count": 285,
     "metadata": {},
     "output_type": "execute_result"
    }
   ],
   "source": [
    "new_df['tags'][0]"
   ]
  },
  {
   "cell_type": "code",
   "execution_count": 286,
   "id": "49f79bcf-c269-4481-b3d2-dc3e1cc22497",
   "metadata": {},
   "outputs": [
    {
     "data": {
      "text/plain": [
       "0      drama fearcanholdyouprisoner.hopecansetyoufree...\n",
       "1      crime drama anofferyoucan'trefuse. marlonbrand...\n",
       "2      action crime drama whysoserious? christianbale...\n",
       "3      crime drama allthepoweronearthcan'tchangedesti...\n",
       "4      crime drama lifeisintheirhands--deathisontheir...\n",
       "                             ...                        \n",
       "245    drama changebeginswithawhisper. violadavis emm...\n",
       "246    adventure biography drama thereismanandbeastat...\n",
       "247    animation adventure comedy wishgranted!(dvdre-...\n",
       "248    biography drama history histriumphchangedthewo...\n",
       "249    adventure drama western insideeveryoneisafront...\n",
       "Name: tags, Length: 250, dtype: object"
      ]
     },
     "execution_count": 286,
     "metadata": {},
     "output_type": "execute_result"
    }
   ],
   "source": [
    "new_df['tags'].apply(lambda x:x.lower())"
   ]
  },
  {
   "cell_type": "code",
   "execution_count": 287,
   "id": "a6555f01-25eb-4058-8274-96c0ea7ca35d",
   "metadata": {},
   "outputs": [
    {
     "name": "stderr",
     "output_type": "stream",
     "text": [
      "C:\\Users\\Khyati\\AppData\\Local\\Temp\\ipykernel_6076\\3214958533.py:1: SettingWithCopyWarning: \n",
      "A value is trying to be set on a copy of a slice from a DataFrame.\n",
      "Try using .loc[row_indexer,col_indexer] = value instead\n",
      "\n",
      "See the caveats in the documentation: https://pandas.pydata.org/pandas-docs/stable/user_guide/indexing.html#returning-a-view-versus-a-copy\n",
      "  new_df['tags'] = new_df['tags'].apply(lambda x:x.lower())\n"
     ]
    }
   ],
   "source": [
    "new_df['tags'] = new_df['tags'].apply(lambda x:x.lower())"
   ]
  },
  {
   "cell_type": "code",
   "execution_count": 288,
   "id": "f31da22e-0be4-4db6-8f7b-65f7deb865ed",
   "metadata": {},
   "outputs": [
    {
     "data": {
      "text/html": [
       "<div>\n",
       "<style scoped>\n",
       "    .dataframe tbody tr th:only-of-type {\n",
       "        vertical-align: middle;\n",
       "    }\n",
       "\n",
       "    .dataframe tbody tr th {\n",
       "        vertical-align: top;\n",
       "    }\n",
       "\n",
       "    .dataframe thead th {\n",
       "        text-align: right;\n",
       "    }\n",
       "</style>\n",
       "<table border=\"1\" class=\"dataframe\">\n",
       "  <thead>\n",
       "    <tr style=\"text-align: right;\">\n",
       "      <th></th>\n",
       "      <th>rank</th>\n",
       "      <th>name</th>\n",
       "      <th>tags</th>\n",
       "    </tr>\n",
       "  </thead>\n",
       "  <tbody>\n",
       "    <tr>\n",
       "      <th>0</th>\n",
       "      <td>1</td>\n",
       "      <td>The Shawshank Redemption</td>\n",
       "      <td>drama fearcanholdyouprisoner.hopecansetyoufree...</td>\n",
       "    </tr>\n",
       "    <tr>\n",
       "      <th>1</th>\n",
       "      <td>2</td>\n",
       "      <td>The Godfather</td>\n",
       "      <td>crime drama anofferyoucan'trefuse. marlonbrand...</td>\n",
       "    </tr>\n",
       "    <tr>\n",
       "      <th>2</th>\n",
       "      <td>3</td>\n",
       "      <td>The Dark Knight</td>\n",
       "      <td>action crime drama whysoserious? christianbale...</td>\n",
       "    </tr>\n",
       "    <tr>\n",
       "      <th>3</th>\n",
       "      <td>4</td>\n",
       "      <td>The Godfather Part II</td>\n",
       "      <td>crime drama allthepoweronearthcan'tchangedesti...</td>\n",
       "    </tr>\n",
       "    <tr>\n",
       "      <th>4</th>\n",
       "      <td>5</td>\n",
       "      <td>12 Angry Men</td>\n",
       "      <td>crime drama lifeisintheirhands--deathisontheir...</td>\n",
       "    </tr>\n",
       "  </tbody>\n",
       "</table>\n",
       "</div>"
      ],
      "text/plain": [
       "   rank                      name  \\\n",
       "0     1  The Shawshank Redemption   \n",
       "1     2             The Godfather   \n",
       "2     3           The Dark Knight   \n",
       "3     4     The Godfather Part II   \n",
       "4     5              12 Angry Men   \n",
       "\n",
       "                                                tags  \n",
       "0  drama fearcanholdyouprisoner.hopecansetyoufree...  \n",
       "1  crime drama anofferyoucan'trefuse. marlonbrand...  \n",
       "2  action crime drama whysoserious? christianbale...  \n",
       "3  crime drama allthepoweronearthcan'tchangedesti...  \n",
       "4  crime drama lifeisintheirhands--deathisontheir...  "
      ]
     },
     "execution_count": 288,
     "metadata": {},
     "output_type": "execute_result"
    }
   ],
   "source": [
    "new_df.head()"
   ]
  },
  {
   "cell_type": "code",
   "execution_count": 289,
   "id": "a835eaab-c4b7-4473-9ff7-a41089a920b5",
   "metadata": {},
   "outputs": [],
   "source": [
    "import nltk"
   ]
  },
  {
   "cell_type": "code",
   "execution_count": 290,
   "id": "3d4cc641-8e3b-4560-947f-aca0a20475eb",
   "metadata": {},
   "outputs": [],
   "source": [
    "from nltk.stem.porter import PorterStemmer\n",
    "ps = PorterStemmer()"
   ]
  },
  {
   "cell_type": "code",
   "execution_count": 291,
   "id": "89826a7a-1f79-467f-b698-923d236064cd",
   "metadata": {},
   "outputs": [],
   "source": [
    "def stem(text):\n",
    "    y = []\n",
    "    for i in text.split():\n",
    "        y.append(ps.stem(i))\n",
    "    return \" \".join(y)"
   ]
  },
  {
   "cell_type": "code",
   "execution_count": 292,
   "id": "7d148709-6e5d-4fb9-b57f-1f897ddbbefc",
   "metadata": {},
   "outputs": [
    {
     "data": {
      "text/plain": [
       "0      drama fearcanholdyouprisoner.hopecansetyoufree...\n",
       "1      crime drama anofferyoucan'trefuse. marlonbrand...\n",
       "2      action crime drama whysoserious? christianbal ...\n",
       "3      crime drama allthepoweronearthcan'tchangedesti...\n",
       "4      crime drama lifeisintheirhands--deathisontheir...\n",
       "                             ...                        \n",
       "245    drama changebeginswithawhisper. violadavi emma...\n",
       "246    adventur biographi drama thereismanandbeastatn...\n",
       "247    anim adventur comedi wishgranted!(dvdre-releas...\n",
       "248    biographi drama histori histriumphchangedthewo...\n",
       "249    adventur drama western insideeveryoneisafronti...\n",
       "Name: tags, Length: 250, dtype: object"
      ]
     },
     "execution_count": 292,
     "metadata": {},
     "output_type": "execute_result"
    }
   ],
   "source": [
    "new_df['tags'].apply(stem)"
   ]
  },
  {
   "cell_type": "code",
   "execution_count": 293,
   "id": "107a1637-1faa-4eab-8238-3ef82d4969dc",
   "metadata": {},
   "outputs": [
    {
     "name": "stderr",
     "output_type": "stream",
     "text": [
      "C:\\Users\\Khyati\\AppData\\Local\\Temp\\ipykernel_6076\\3213734980.py:1: SettingWithCopyWarning: \n",
      "A value is trying to be set on a copy of a slice from a DataFrame.\n",
      "Try using .loc[row_indexer,col_indexer] = value instead\n",
      "\n",
      "See the caveats in the documentation: https://pandas.pydata.org/pandas-docs/stable/user_guide/indexing.html#returning-a-view-versus-a-copy\n",
      "  new_df['tags'] = new_df['tags'].apply(stem)\n"
     ]
    }
   ],
   "source": [
    "new_df['tags'] = new_df['tags'].apply(stem)"
   ]
  },
  {
   "cell_type": "code",
   "execution_count": 294,
   "id": "8673cdf2-5e49-425c-8225-9160d41706de",
   "metadata": {},
   "outputs": [
    {
     "data": {
      "text/plain": [
       "'drama fearcanholdyouprisoner.hopecansetyoufree. timrobbin morganfreeman bobgunton'"
      ]
     },
     "execution_count": 294,
     "metadata": {},
     "output_type": "execute_result"
    }
   ],
   "source": [
    "new_df['tags'][0]"
   ]
  },
  {
   "cell_type": "code",
   "execution_count": 295,
   "id": "5a3f381a-02ce-468d-af1a-25453cfddf86",
   "metadata": {},
   "outputs": [
    {
     "data": {
      "text/plain": [
       "\"crime drama anofferyoucan'trefuse. marlonbrando alpacino jamescaan\""
      ]
     },
     "execution_count": 295,
     "metadata": {},
     "output_type": "execute_result"
    }
   ],
   "source": [
    "new_df['tags'][1]"
   ]
  },
  {
   "cell_type": "code",
   "execution_count": 296,
   "id": "83f32ad6-9408-4fe2-a105-e7da8572531e",
   "metadata": {},
   "outputs": [],
   "source": [
    "from sklearn.feature_extraction.text import CountVectorizer\n",
    "cv = CountVectorizer(max_features=5000,stop_words='english')"
   ]
  },
  {
   "cell_type": "code",
   "execution_count": 297,
   "id": "cfcab55e-d1fa-45ba-8380-54a74ade5106",
   "metadata": {},
   "outputs": [
    {
     "data": {
      "text/plain": [
       "array([[0, 0, 0, ..., 0, 0, 0],\n",
       "       [0, 0, 0, ..., 0, 0, 0],\n",
       "       [0, 0, 0, ..., 0, 0, 0],\n",
       "       ...,\n",
       "       [0, 0, 0, ..., 0, 0, 0],\n",
       "       [0, 0, 0, ..., 0, 0, 0],\n",
       "       [0, 0, 0, ..., 0, 0, 0]], dtype=int64)"
      ]
     },
     "execution_count": 297,
     "metadata": {},
     "output_type": "execute_result"
    }
   ],
   "source": [
    "cv.fit_transform(new_df['tags']).toarray()"
   ]
  },
  {
   "cell_type": "code",
   "execution_count": 298,
   "id": "494a8f3c-4280-4abd-9fe2-6dc8231f8262",
   "metadata": {},
   "outputs": [
    {
     "data": {
      "text/plain": [
       "(250, 1206)"
      ]
     },
     "execution_count": 298,
     "metadata": {},
     "output_type": "execute_result"
    }
   ],
   "source": [
    "cv.fit_transform(new_df['tags']).toarray().shape"
   ]
  },
  {
   "cell_type": "code",
   "execution_count": 299,
   "id": "bd788fdd-b65e-432e-a261-6f734346417b",
   "metadata": {},
   "outputs": [],
   "source": [
    "vectors = cv.fit_transform(new_df['tags']).toarray()"
   ]
  },
  {
   "cell_type": "code",
   "execution_count": 300,
   "id": "40cdc703-8a2a-4146-9802-5d2501874f12",
   "metadata": {},
   "outputs": [
    {
     "data": {
      "text/plain": [
       "array([[0, 0, 0, ..., 0, 0, 0],\n",
       "       [0, 0, 0, ..., 0, 0, 0],\n",
       "       [0, 0, 0, ..., 0, 0, 0],\n",
       "       ...,\n",
       "       [0, 0, 0, ..., 0, 0, 0],\n",
       "       [0, 0, 0, ..., 0, 0, 0],\n",
       "       [0, 0, 0, ..., 0, 0, 0]], dtype=int64)"
      ]
     },
     "execution_count": 300,
     "metadata": {},
     "output_type": "execute_result"
    }
   ],
   "source": [
    "vectors"
   ]
  },
  {
   "cell_type": "code",
   "execution_count": 301,
   "id": "cdd8a8c6-facd-4dba-a427-42afad1f9461",
   "metadata": {},
   "outputs": [
    {
     "data": {
      "text/plain": [
       "array(['142screenfulminutesofthrillsandsuspense', '15yearsofimprison',\n",
       "       '1938', ..., 'zaziebeetz', 'zendaya', 'çetintekindor'],\n",
       "      dtype=object)"
      ]
     },
     "execution_count": 301,
     "metadata": {},
     "output_type": "execute_result"
    }
   ],
   "source": [
    "cv.get_feature_names_out()"
   ]
  },
  {
   "cell_type": "code",
   "execution_count": 302,
   "id": "baf46ec9-92ea-4fd2-b054-c9c1bdee74c9",
   "metadata": {},
   "outputs": [],
   "source": [
    "from sklearn.metrics.pairwise import cosine_similarity"
   ]
  },
  {
   "cell_type": "code",
   "execution_count": 303,
   "id": "4b9c303d-d8e3-4e6f-8760-a729f0f69a30",
   "metadata": {},
   "outputs": [
    {
     "data": {
      "text/plain": [
       "array([[1.        , 0.15430335, 0.15430335, ..., 0.        , 0.15430335,\n",
       "        0.15430335],\n",
       "       [0.15430335, 1.        , 0.28571429, ..., 0.        , 0.14285714,\n",
       "        0.14285714],\n",
       "       [0.15430335, 0.28571429, 1.        , ..., 0.        , 0.14285714,\n",
       "        0.14285714],\n",
       "       ...,\n",
       "       [0.        , 0.        , 0.        , ..., 1.        , 0.        ,\n",
       "        0.12598816],\n",
       "       [0.15430335, 0.14285714, 0.14285714, ..., 0.        , 1.        ,\n",
       "        0.14285714],\n",
       "       [0.15430335, 0.14285714, 0.14285714, ..., 0.12598816, 0.14285714,\n",
       "        1.        ]])"
      ]
     },
     "execution_count": 303,
     "metadata": {},
     "output_type": "execute_result"
    }
   ],
   "source": [
    "cosine_similarity(vectors)"
   ]
  },
  {
   "cell_type": "code",
   "execution_count": 304,
   "id": "ae867722-df68-4b14-9c43-68323b34366f",
   "metadata": {},
   "outputs": [
    {
     "data": {
      "text/plain": [
       "(250, 250)"
      ]
     },
     "execution_count": 304,
     "metadata": {},
     "output_type": "execute_result"
    }
   ],
   "source": [
    "cosine_similarity(vectors).shape"
   ]
  },
  {
   "cell_type": "code",
   "execution_count": 305,
   "id": "e15c5522-6321-4c85-b19f-a00e8a131446",
   "metadata": {},
   "outputs": [],
   "source": [
    "similarity = cosine_similarity(vectors)"
   ]
  },
  {
   "cell_type": "code",
   "execution_count": 306,
   "id": "deab1c9c-2f89-46df-ab35-424b9add72af",
   "metadata": {},
   "outputs": [
    {
     "data": {
      "text/plain": [
       "array([0.15430335, 1.        , 0.28571429, 0.42857143, 0.26726124,\n",
       "       0.13363062, 0.14285714, 0.26726124, 0.14285714, 0.        ,\n",
       "       0.15430335, 0.15430335, 0.14285714, 0.        , 0.        ,\n",
       "       0.        , 0.22792115, 0.14285714, 0.25197632, 0.15430335,\n",
       "       0.13363062, 0.16903085, 0.25197632, 0.14285714, 0.12598816,\n",
       "       0.12598816, 0.28571429, 0.        , 0.        , 0.        ,\n",
       "       0.        , 0.13363062, 0.        , 0.10910895, 0.26726124,\n",
       "       0.12598816, 0.13363062, 0.25197632, 0.23904572, 0.26726124,\n",
       "       0.13363062, 0.15430335, 0.14285714, 0.14285714, 0.13363062,\n",
       "       0.12598816, 0.11952286, 0.        , 0.        , 0.13363062,\n",
       "       0.        , 0.10482848, 0.23904572, 0.        , 0.14285714,\n",
       "       0.        , 0.        , 0.12598816, 0.14285714, 0.15430335,\n",
       "       0.15430335, 0.14285714, 0.        , 0.28571429, 0.        ,\n",
       "       0.        , 0.16903085, 0.        , 0.15430335, 0.11396058,\n",
       "       0.14285714, 0.11396058, 0.        , 0.        , 0.28571429,\n",
       "       0.13363062, 0.13363062, 0.14285714, 0.        , 0.34188173,\n",
       "       0.14285714, 0.12598816, 0.13363062, 0.        , 0.15430335,\n",
       "       0.        , 0.28571429, 0.15430335, 0.        , 0.13363062,\n",
       "       0.        , 0.10910895, 0.14285714, 0.16903085, 0.10910895,\n",
       "       0.11952286, 0.13363062, 0.        , 0.        , 0.15430335,\n",
       "       0.        , 0.09166985, 0.09449112, 0.1833397 , 0.13363062,\n",
       "       0.14285714, 0.40089186, 0.13363062, 0.13363062, 0.3086067 ,\n",
       "       0.40089186, 0.23904572, 0.        , 0.15430335, 0.11952286,\n",
       "       0.28571429, 0.23904572, 0.        , 0.13363062, 0.        ,\n",
       "       0.16903085, 0.15430335, 0.13363062, 0.13363062, 0.14285714,\n",
       "       0.        , 0.28571429, 0.14285714, 0.        , 0.15430335,\n",
       "       0.15430335, 0.12598816, 0.14285714, 0.14285714, 0.28571429,\n",
       "       0.14285714, 0.12598816, 0.14285714, 0.14285714, 0.14285714,\n",
       "       0.14285714, 0.        , 0.15430335, 0.        , 0.13363062,\n",
       "       0.14285714, 0.        , 0.12598816, 0.28571429, 0.        ,\n",
       "       0.26726124, 0.25197632, 0.        , 0.        , 0.13363062,\n",
       "       0.11952286, 0.14285714, 0.11396058, 0.09449112, 0.14285714,\n",
       "       0.        , 0.14285714, 0.10910895, 0.        , 0.28571429,\n",
       "       0.13363062, 0.11396058, 0.28571429, 0.14285714, 0.14285714,\n",
       "       0.16903085, 0.        , 0.28571429, 0.10482848, 0.13363062,\n",
       "       0.12598816, 0.10482848, 0.15430335, 0.14285714, 0.        ,\n",
       "       0.        , 0.40089186, 0.15430335, 0.11952286, 0.14285714,\n",
       "       0.12598816, 0.        , 0.        , 0.22792115, 0.15430335,\n",
       "       0.13363062, 0.14285714, 0.13363062, 0.21821789, 0.        ,\n",
       "       0.14285714, 0.08908708, 0.        , 0.11396058, 0.13363062,\n",
       "       0.        , 0.15430335, 0.        , 0.        , 0.14285714,\n",
       "       0.13363062, 0.15430335, 0.13363062, 0.13363062, 0.14285714,\n",
       "       0.15430335, 0.15430335, 0.        , 0.26726124, 0.        ,\n",
       "       0.13363062, 0.11952286, 0.14285714, 0.10910895, 0.14285714,\n",
       "       0.15430335, 0.        , 0.16903085, 0.12598816, 0.13363062,\n",
       "       0.        , 0.        , 0.        , 0.28571429, 0.11396058,\n",
       "       0.        , 0.12598816, 0.16903085, 0.28571429, 0.14285714,\n",
       "       0.13363062, 0.10101525, 0.28571429, 0.12598816, 0.26726124,\n",
       "       0.13363062, 0.        , 0.15430335, 0.        , 0.        ,\n",
       "       0.16903085, 0.11952286, 0.        , 0.14285714, 0.14285714])"
      ]
     },
     "execution_count": 306,
     "metadata": {},
     "output_type": "execute_result"
    }
   ],
   "source": [
    "similarity[1]"
   ]
  },
  {
   "cell_type": "code",
   "execution_count": 307,
   "id": "667eedf2-3db0-482b-ba06-0c695f8afed0",
   "metadata": {},
   "outputs": [],
   "source": [
    "def recommend(movie):\n",
    "    movie_index = new_df[new_df['name'] == movie].index[0] #its function that find index value from table\n",
    "    distances = similarity[movie_index] #measuring distance of array\n",
    "    # For next step we sort the list with emurate function so it convert with tuple \n",
    "    # Then it will reverse the list and then its will give 5 simmilar cordinate suggestion using lambda function\n",
    "    movies_list = sorted(list(enumerate(distances)),reverse=True,key=lambda x:x[1])[1:6] \n",
    "    for i in movies_list:\n",
    "        print(new_df.iloc[i[0]].name)"
   ]
  },
  {
   "cell_type": "code",
   "execution_count": 308,
   "id": "8378643d-a1b4-4055-bb87-fc65eb7aee46",
   "metadata": {},
   "outputs": [
    {
     "name": "stdout",
     "output_type": "stream",
     "text": [
      "139\n",
      "18\n",
      "173\n",
      "66\n",
      "93\n"
     ]
    }
   ],
   "source": [
    "recommend('The Shawshank Redemption')"
   ]
  },
  {
   "cell_type": "code",
   "execution_count": 372,
   "id": "33f4e8db-a054-4eff-8efe-ab6d78c2df51",
   "metadata": {},
   "outputs": [],
   "source": [
    "np.savez('similarity.npz', similarity=similarity)"
   ]
  },
  {
   "cell_type": "code",
   "execution_count": null,
   "id": "37d17dc3-63d2-4d3e-8435-2f7152834fd8",
   "metadata": {},
   "outputs": [],
   "source": []
  }
 ],
 "metadata": {
  "kernelspec": {
   "display_name": "Python [conda env:base] *",
   "language": "python",
   "name": "conda-base-py"
  },
  "language_info": {
   "codemirror_mode": {
    "name": "ipython",
    "version": 3
   },
   "file_extension": ".py",
   "mimetype": "text/x-python",
   "name": "python",
   "nbconvert_exporter": "python",
   "pygments_lexer": "ipython3",
   "version": "3.12.7"
  }
 },
 "nbformat": 4,
 "nbformat_minor": 5
}
